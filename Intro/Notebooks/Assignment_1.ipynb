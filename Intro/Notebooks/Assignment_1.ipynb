{
 "cells": [
  {
   "cell_type": "code",
   "execution_count": 1,
   "id": "d739b4c5",
   "metadata": {},
   "outputs": [],
   "source": [
    "import pandas as pd\n",
    "import numpy as np \n",
    "from splinter import Browser\n",
    "from bs4 import BeautifulSoup as soup\n",
    "from webdriver_manager.chrome import ChromeDriverManager"
   ]
  },
  {
   "cell_type": "markdown",
   "id": "b1bcd0e5",
   "metadata": {},
   "source": [
    "### Scrape Numbers List"
   ]
  },
  {
   "cell_type": "code",
   "execution_count": 2,
   "id": "6d30223a",
   "metadata": {},
   "outputs": [
    {
     "name": "stderr",
     "output_type": "stream",
     "text": [
      "\n",
      "\n",
      "====== WebDriver manager ======\n",
      "Current google-chrome version is 104.0.5112\n",
      "Get LATEST chromedriver version for 104.0.5112 google-chrome\n",
      "Driver [/Users/brandon/.wdm/drivers/chromedriver/mac64/104.0.5112.79/chromedriver] found in cache\n"
     ]
    },
    {
     "name": "stdout",
     "output_type": "stream",
     "text": [
      "100000\n"
     ]
    }
   ],
   "source": [
    "executable_path = {'executable_path': ChromeDriverManager().install()}\n",
    "browser = Browser('chrome', **executable_path, headless=False)\n",
    "\n",
    "\n",
    "# Could create scrapper to login and then visit this link, not static\n",
    "url = 'https://courses.edx.org/assets/courseware/v1/20264e13e73a87dda60e8701d9f2c521/asset-v1:StanfordOnline+CSX0003+1T2020+type@asset+block/IntegerArray.txt'\n",
    "browser.visit(url)\n",
    "\n",
    "Active_soup = soup(browser.html, 'html.parser')\n",
    "page = Active_soup.find('pre').get_text().split('\\n')\n",
    "page.pop()\n",
    "\n",
    "raw_number_list = list(map(lambda x: int(x), page))\n",
    "print(len(raw_number_list))\n"
   ]
  },
  {
   "cell_type": "markdown",
   "id": "1265afd5",
   "metadata": {},
   "source": [
    "## Algorithm\n",
    "\n",
    "Your task is to compute the number of inversions in the file given, where the  row of the file indicates the  entry of an array.\n",
    "\n",
    "Because of the large size of this array, you should implement the fast divide-and-conquer algorithm covered in the video lectures.\n",
    "\n",
    "The numeric answer for the given input file should be typed in the space below.\n",
    "\n",
    "So if your answer is 1198233847, then just type 1198233847 in the space provided without any spaces or commas or any other punctuation marks. \n",
    "\n",
    "\n"
   ]
  },
  {
   "cell_type": "code",
   "execution_count": 3,
   "id": "2f352251",
   "metadata": {},
   "outputs": [],
   "source": [
    "def countInversion(array):\n",
    "    global Count # Define Global count so exist at each recursive level\n",
    "    if len(array) > 1:\n",
    "        middle = len(array)//2\n",
    "        left = array[:middle]\n",
    "        right = array[middle:]\n",
    "        \n",
    "        countInversion(left)\n",
    "        countInversion(right)\n",
    "\n",
    "        i=j=0\n",
    "        left_array = left\n",
    "        right_array = right\n",
    "        \n",
    "        # Recursively Sort and Count Number of Inversions\n",
    "        for k in range(len(left_array) + len(right_array)):\n",
    "            if left_array[i] <= right_array[j]: # Left array item greater\n",
    "                array[k] = left_array[i] # Add left array item\n",
    "                i += 1\n",
    "                \n",
    "                if i == len(left_array) and j != len(right_array): # If at base of left recursion \n",
    "                    while j!=len(right_array): # While right isnt at the base level\n",
    "                        k +=1\n",
    "                        array[k] = right_array[j] # Keep adding right items till at base level\n",
    "                        j +=1\n",
    "                    break\n",
    "                    \n",
    "            elif right_array[j] < left_array[i]: # Right array item greater\n",
    "                array[k] = right_array[j] # Add right array item\n",
    "                Count += len(left_array) -i # Since split version exist, count the level's inversions\n",
    "                j += 1 \n",
    "                \n",
    "                if j == len(right_array) and i != len(left_array): # If at base of right recursion\n",
    "                    while i!=len(left_array): # While left isn't at the base level\n",
    "                        k +=1    \n",
    "                        array[k] = left_array[i] # Add left items till at base level\n",
    "                        i += 1\n",
    "                    break\n",
    "    return array"
   ]
  },
  {
   "cell_type": "code",
   "execution_count": 4,
   "id": "42292233",
   "metadata": {},
   "outputs": [
    {
     "name": "stdout",
     "output_type": "stream",
     "text": [
      "2407905288\n"
     ]
    }
   ],
   "source": [
    "Count = 0\n",
    "countInversion(raw_number_list)\n",
    "print(Count)"
   ]
  },
  {
   "cell_type": "code",
   "execution_count": 5,
   "id": "b0711b9c",
   "metadata": {},
   "outputs": [
    {
     "name": "stdout",
     "output_type": "stream",
     "text": [
      "0\n"
     ]
    }
   ],
   "source": [
    "Count = 0\n",
    "countInversion(raw_number_list)\n",
    "print(Count)"
   ]
  }
 ],
 "metadata": {
  "kernelspec": {
   "display_name": "Python 3 (ipykernel)",
   "language": "python",
   "name": "python3"
  },
  "language_info": {
   "codemirror_mode": {
    "name": "ipython",
    "version": 3
   },
   "file_extension": ".py",
   "mimetype": "text/x-python",
   "name": "python",
   "nbconvert_exporter": "python",
   "pygments_lexer": "ipython3",
   "version": "3.9.12"
  }
 },
 "nbformat": 4,
 "nbformat_minor": 5
}
