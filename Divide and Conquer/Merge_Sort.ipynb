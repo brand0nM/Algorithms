{
 "cells": [
  {
   "cell_type": "markdown",
   "id": "d1074796",
   "metadata": {},
   "source": [
    "# Merge Sort"
   ]
  },
  {
   "cell_type": "markdown",
   "id": "f9490714",
   "metadata": {},
   "source": [
    "### Create Random Arrays"
   ]
  },
  {
   "cell_type": "code",
   "execution_count": 1,
   "id": "6af54c7a",
   "metadata": {
    "scrolled": true
   },
   "outputs": [],
   "source": [
    "import numpy as np\n",
    "import time"
   ]
  },
  {
   "cell_type": "code",
   "execution_count": 2,
   "id": "1b37672c",
   "metadata": {},
   "outputs": [
    {
     "name": "stdout",
     "output_type": "stream",
     "text": [
      "It Took 0.645785901 seconds to create an array of 2500000 random numbers\n"
     ]
    }
   ],
   "source": [
    "n = 2500000\n",
    "\n",
    "arrat = []\n",
    "start = time.perf_counter()\n",
    "array = np.random.rand(n,1)\n",
    "\n",
    "for element in array:\n",
    "    arrat.append(element[0])\n",
    "span = time.perf_counter() - start\n",
    "print('It Took '+str(span)+' seconds to create an array of '+str(len(array))+' random numbers')"
   ]
  },
  {
   "cell_type": "markdown",
   "id": "91df313b",
   "metadata": {},
   "source": [
    "\n",
    "## Divide and Conquer\n",
    "The idea is to take a larger problem, break it into sub problems, solve them recursively, and finally combine the results. This was the motivation of merge sorting, to improve on Selection, Insertion, and Bubble sorts, by recursively dividing the problem. We will later see runtime implications\n",
    "\n",
    "### The Sorting Problem\n",
    "Assume input array is distinct,\n",
    "\n",
    "    Input: array of n numbers unsorted\n",
    "    \n",
    "    output: same array n numbers sorted in acsending order\n",
    "\n",
    "Solution: recursively split the array and walk pointers down\n",
    "\n",
    "### Pseudocode of Merge\n",
    "C= output_array; length n \n",
    "\n",
    "A= 1st sorted array; length n/2\n",
    "\n",
    "B= 2nd sorted array; length n/2\n",
    "    \n",
    "    for k=1 to n:\n",
    "        if A(i) < B(j):\n",
    "            C(k)=A(i)\n",
    "            i++\n",
    "        else B(j)<A(i):\n",
    "            C(k)=B(j)\n",
    "            j++\n",
    "        end\n",
    "        \n",
    "### Runtime\n",
    "Running time of merge on array of m number is \n",
    "\n",
    "    UpperBound: 6nlog2(n)+6n operations\n",
    "    \n",
    "This is an improvement since the runtime of other sorting algorithms was quadratic\n"
   ]
  },
  {
   "cell_type": "markdown",
   "id": "3e0baff7",
   "metadata": {},
   "source": [
    "## Recursion Tree\n",
    "Write out all the work done by recurssion through a tree diagram. Each recursive call coresponds to a child node\n",
    "\n",
    "### Merge Sort Proof\n",
    "Assume size of array is even,\n",
    "\n",
    "    level 0:                                           [input array]\n",
    "    \n",
    "    level 1:                           [left array]                      [right array]\n",
    "    \n",
    "    level 2:                  [left1 array]   [left2 array]      [right1 array]   [right2 array]\n",
    "    \n",
    "                         .............................................................................\n",
    "     \n",
    "    level log2(n): [1_element] [1_element] [1_element] .................. [1_element] [1_element] [1_element]\n",
    "    \n",
    "   \n",
    "    \n",
    "    CLAIM: At each level j=0 , ... , log2n there are 2^j disctinct subproblems that have $$ n/2^{j} $$ elements\n",
    "    \n",
    "    PROOF: \n",
    "        \n",
    "            Total operations at level j: [each j=0, ... ,log2(n)] <= 2^j x 6 (n/2^j) = 6n <= 6n(log2(n)+1)\n",
    "            "
   ]
  },
  {
   "cell_type": "code",
   "execution_count": 3,
   "id": "b1a280fa",
   "metadata": {},
   "outputs": [],
   "source": [
    "def mergeSort(array):\n",
    "    if len(array) > 1: # Test aren't at boundary\n",
    "        half_length = len(array)//2 # Caluate floor div half\n",
    "        \n",
    "        # Split array\n",
    "        left_array = array[:half_length] \n",
    "        right_array = array[half_length:]\n",
    "        \n",
    "        mergeSort(left_array) # Split arrays recursively\n",
    "        mergeSort(right_array)\n",
    "\n",
    "        i=j=k=0\n",
    "        while i< len(left_array) and j< len(right_array):\n",
    "            if left_array[i] < right_array[j]:\n",
    "                array[k] = left_array[i]\n",
    "                i+=1\n",
    "            elif right_array[j] < left_array[i]:\n",
    "                array[k] = right_array[j]\n",
    "                j+=1\n",
    "            k+=1 # skip case were they are equal\n",
    "        while i < len(left_array):\n",
    "            array[k] = left_array[i]\n",
    "            i += 1\n",
    "            k += 1\n",
    "\n",
    "        while j < len(right_array):\n",
    "            array[k] = right_array[j]\n",
    "            j += 1\n",
    "            k += 1\n",
    "        return array"
   ]
  },
  {
   "cell_type": "code",
   "execution_count": 4,
   "id": "254f6323",
   "metadata": {},
   "outputs": [
    {
     "name": "stdout",
     "output_type": "stream",
     "text": [
      "              Worst Case                 \n",
      "Theoretical Merge Operations: 333802449\n",
      "Theoretical Normal Operations: 6250000000000\n",
      "Normal sort takes 1872364 x Merge Sort\n"
     ]
    }
   ],
   "source": [
    "from math import log2\n",
    "merge_op = int(6*n*log2(n)+6*n)\n",
    "norm_op = n**2\n",
    "print('              Worst Case                 ')\n",
    "print(f'Theoretical Merge Operations: {merge_op}')\n",
    "print(f'Theoretical Normal Operations: {norm_op}')\n",
    "print(f'Normal sort takes {int(norm_op/merge_op*100)} x Merge Sort')"
   ]
  },
  {
   "cell_type": "code",
   "execution_count": 5,
   "id": "da9b21a6",
   "metadata": {},
   "outputs": [
    {
     "name": "stdout",
     "output_type": "stream",
     "text": [
      "And 21.749830046 seconds to sort an array of 2500000 random numbers\n"
     ]
    }
   ],
   "source": [
    "start = time.perf_counter()\n",
    "sorted_arrat = mergeSort(arrat)\n",
    "span = time.perf_counter() - start\n",
    "print('And '+str(span)+' seconds to sort an array of '+str(len(array))+' random numbers')"
   ]
  }
 ],
 "metadata": {
  "kernelspec": {
   "display_name": "Python 3 (ipykernel)",
   "language": "python",
   "name": "python3"
  },
  "language_info": {
   "codemirror_mode": {
    "name": "ipython",
    "version": 3
   },
   "file_extension": ".py",
   "mimetype": "text/x-python",
   "name": "python",
   "nbconvert_exporter": "python",
   "pygments_lexer": "ipython3",
   "version": "3.9.12"
  }
 },
 "nbformat": 4,
 "nbformat_minor": 5
}
